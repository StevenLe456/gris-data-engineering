{
 "cells": [
  {
   "cell_type": "code",
   "execution_count": 1,
   "metadata": {},
   "outputs": [],
   "source": [
    "import pickle"
   ]
  },
  {
   "cell_type": "code",
   "execution_count": 2,
   "metadata": {},
   "outputs": [],
   "source": [
    "with open(\"../data/nonpsychotic_posts.pickle\", \"rb\") as p:\n",
    "    nonpsychotic_posts = pickle.load(p)"
   ]
  },
  {
   "cell_type": "code",
   "execution_count": 3,
   "metadata": {},
   "outputs": [
    {
     "data": {
      "text/plain": [
       "78"
      ]
     },
     "execution_count": 3,
     "metadata": {},
     "output_type": "execute_result"
    }
   ],
   "source": [
    "len(list(nonpsychotic_posts.items())[2][1])"
   ]
  },
  {
   "cell_type": "code",
   "execution_count": 4,
   "metadata": {},
   "outputs": [],
   "source": [
    "nonpsychotic_sample = list(nonpsychotic_posts.items())[2][1][0][\"text\"].lower()"
   ]
  },
  {
   "cell_type": "code",
   "execution_count": 5,
   "metadata": {},
   "outputs": [
    {
     "name": "stdout",
     "output_type": "stream",
     "text": [
      "serious question. i'll explain further below. wondering if a team member can offer some insight here.\n",
      "\n",
      "this has happened to me at least twice now:\n",
      "\n",
      "* i  pre-ordered the new marvel villainous board game expansion months ago from [target.com](https://target.com) while there was an active circle deal for buy 2 get 1 free on all disney toys. these deals often apply to preorders, so i always tend to scoop up the preorders i know i'll want later while these good circle deals are active. the game retails $24.99, i got it for about $16.49 (because a b2g1 free deal essentially balances out to 33% off each item for return value).\n",
      "* the game arrived today - several months later - in a box that was a very tight fit, with absolutely no padding at all (just the game box inside another empty cardboard box) - as a result of the way it was packed, one of the corners was very damaged/dented.\n",
      "* i took it to the store (same day it arrived) - literally still in the same shipping box, so i can show them the damage and show them exactly how it was packed. the game has now been released, so i'd seen it on shelves earlier in the week, so i ask, \"can i exchange this for an undamaged copy?\" - girl says sure... ***but***...\n",
      "* she's not ***really*** exchanging it, she starts a return / rebuy, so she tells me $16.49 will go back on my redcard, and then she'll ring up the new one and i say, \"well i don't want to do that because the new one is going to ring up $24.99 - i don't want to do a return / rebuy, i just want to exchange the one that arrived damaged\"\n",
      "* so she tries to look up the circle deal, and i say, \"it was months ago, this was a preorder, i'm sure it's long since expired and gone\" and it is, obviously. and she says well then unfortunately we can't apply the same circle deal to the new sale, since the deal expired months ago (furthermore, even if the circle deal were stil active, i wouldn't be buying 3 items this time anyway, because the other two disney toys i ordered have no part in the new transaction) and i say, \"well i obviously don't want to pay ***more***\"\n",
      "* so she goes and talks to another team member (probably higher ranking, i assume) i can see them off in the distance, but can't hear them. the other team member takes the game i'm trying to return, starts looking it over real hard, removes the slip cover, examines every side, seems to be checking it thoroughly (i'm assuming to make sure i'm not pulling some sort of fast one)\n",
      "* finally the first girl comes back and says, \"since it's the same item, and new and sealed, we're going to just do a straight up even exchange this one time, but i want to stress this isn't our normal policy and this is a one time exception we're making\" and i thank her, because ***t******hat's all i really wanted to begin with***... and i leave...\n",
      "\n",
      "but like - here's the thing - ***i didn't do anything wrong here***... i used a valid circle item, on a valid item, that item arrived today, it was damaged in shipping due to [target.com](https://target.com)'s packing, it made perfect sense that i'd obviously want to exchange it for the same price, not a roughly $10 price increase from $16.49 to $24.99... but they're like examining the game like i'm trying to get one over on them... and... then acting like they're doing me a huge favor by replacing the game ***that i didn't damage***...\n",
      "\n",
      "like - why does a 1 to 1 identical exchange for an obviously damaged in shipping item ***on the day it arrives no less*** have to be so hard?\n",
      "\n",
      "***and this is at least the second time this exact scenario has happened to me.***\n",
      "\n",
      "it occurred to me on the drive home that next time i should just buy the new copy straight up off the shelf, pay cash, then simply return the damaged copy using the new receipt a day or two later... but... hindsight is 20/20... and i frankly wonder why is there a need to even jump through that hoop? why can a straight swap not be done quickly and easily in circumstances like these? why is it like pulling teeth?\n",
      "\n",
      "and those questions... ya'know... bring me to this thread.\n",
      "\n",
      "i've worked retail in the past (though it was many years ago, when i was a teen) - i always try to see these situations from both the customer and employee end, and be friendly and make sense of things - so like - is there some logic behind all this i'm missing? from the store's perspective?\n"
     ]
    }
   ],
   "source": [
    "print(nonpsychotic_sample)"
   ]
  },
  {
   "cell_type": "code",
   "execution_count": 6,
   "metadata": {},
   "outputs": [
    {
     "name": "stderr",
     "output_type": "stream",
     "text": [
      "/home/rain/Documents/GRIS/venv/lib/python3.10/site-packages/tqdm/auto.py:22: TqdmWarning: IProgress not found. Please update jupyter and ipywidgets. See https://ipywidgets.readthedocs.io/en/stable/user_install.html\n",
      "  from .autonotebook import tqdm as notebook_tqdm\n"
     ]
    }
   ],
   "source": [
    "import os\n",
    "import stanza\n",
    "from stanza.server import CoreNLPClient"
   ]
  },
  {
   "cell_type": "code",
   "execution_count": 7,
   "metadata": {},
   "outputs": [],
   "source": [
    "os.environ[\"CORENLP_HOME\"] = \"/home/rain/.stanfordnlp_resources/stanford-corenlp-4.1.0\""
   ]
  },
  {
   "cell_type": "code",
   "execution_count": 8,
   "metadata": {},
   "outputs": [
    {
     "name": "stderr",
     "output_type": "stream",
     "text": [
      "2022-08-01 17:55:07 INFO: Writing properties to tmp file: corenlp_server-199109f6ba5647f9.props\n",
      "2022-08-01 17:55:07 INFO: Starting server with command: java -Xmx5G -cp /home/rain/.stanfordnlp_resources/stanford-corenlp-4.1.0/* edu.stanford.nlp.pipeline.StanfordCoreNLPServer -port 1234 -timeout 150000000 -threads 5 -maxCharLength 100000 -quiet True -serverProperties corenlp_server-199109f6ba5647f9.props -annotators openie -preload -outputFormat serialized\n"
     ]
    }
   ],
   "source": [
    "client = CoreNLPClient(timeout=150000000, be_quiet=True, annotators=['openie'], endpoint='http://localhost:1234')\n",
    "client.start()\n",
    "doc = client.annotate(nonpsychotic_sample, output_format=\"json\")\n",
    "triples = []\n",
    "for sentence in doc['sentences']:\n",
    "    for triple in sentence['openie']:\n",
    "        triples.append({\n",
    "           'subject': triple['subject'],\n",
    "           'relation': triple['relation'],\n",
    "            'object': triple['object']\n",
    "        })\n",
    "client.stop()"
   ]
  },
  {
   "cell_type": "code",
   "execution_count": 9,
   "metadata": {},
   "outputs": [],
   "source": [
    "import networkx as nx\n",
    "import matplotlib.pyplot as plt"
   ]
  },
  {
   "cell_type": "code",
   "execution_count": 10,
   "metadata": {},
   "outputs": [],
   "source": [
    "g = nx.DiGraph()\n",
    "for triplet in triples:\n",
    "    g.add_edge(triplet[\"subject\"], triplet[\"object\"], relation=triplet[\"relation\"])"
   ]
  },
  {
   "cell_type": "code",
   "execution_count": 11,
   "metadata": {},
   "outputs": [
    {
     "data": {
      "image/png": "[encoded data removed]",
      "text/plain": [
       "<Figure size 432x288 with 1 Axes>"
      ]
     },
     "metadata": {},
     "output_type": "display_data"
    }
   ],
   "source": [
    "nx.draw(g, with_labels=True, node_color='skyblue', edge_cmap=plt.cm.Blues)"
   ]
  },
  {
   "cell_type": "code",
   "execution_count": 12,
   "metadata": {},
   "outputs": [
    {
     "data": {
      "text/plain": [
       "NodeView(('team member', 'insight here', 'insight', 'i', 'new marvel board game', 'target.com', 'marvel board game', '1', 'disney toys', 'marvel villainous board game', 'new marvel villainous board game', 'circle deals', 'active', 'while active', 'deals', 'preorders', 'good circle deals', 'it', 'game', '$ 24.99', 'packed', 'tight fit', 'absolutely padding at all', 'box', 'damage', 'them', '*', 'shelves', 'copy', 'has released', 'undamaged copy', 'has now released', 'side', 'other team member', 'slip cover', 'damaged copy', 'new copy', 'cash', 'ya', 'me', 'when teen', 'situations', 'customer', 'store', 'perspective'))"
      ]
     },
     "execution_count": 12,
     "metadata": {},
     "output_type": "execute_result"
    }
   ],
   "source": [
    "g.nodes"
   ]
  },
  {
   "cell_type": "code",
   "execution_count": 13,
   "metadata": {},
   "outputs": [
    {
     "data": {
      "text/plain": [
       "OutEdgeView([('team member', 'insight here'), ('team member', 'insight'), ('team member', 'it'), ('team member', 'game'), ('i', 'new marvel board game'), ('i', 'target.com'), ('i', 'marvel board game'), ('i', 'marvel villainous board game'), ('i', 'new marvel villainous board game'), ('i', 'while active'), ('i', 'preorders'), ('i', 'active'), ('i', 'it'), ('i', 'damage'), ('i', 'them'), ('i', 'shelves'), ('i', 'copy'), ('i', 'undamaged copy'), ('i', 'damaged copy'), ('i', 'cash'), ('i', 'when teen'), ('i', 'situations'), ('i', 'customer'), ('1', 'disney toys'), ('circle deals', 'active'), ('circle deals', 'while active'), ('deals', 'preorders'), ('good circle deals', 'active'), ('good circle deals', 'while active'), ('it', 'packed'), ('game', '$ 24.99'), ('game', 'box'), ('game', 'has released'), ('game', 'has now released'), ('game', 'side'), ('game', 'slip cover'), ('game', 'it'), ('tight fit', 'absolutely padding at all'), ('*', 'it'), ('copy', 'damaged copy'), ('copy', 'copy'), ('copy', 'cash'), ('other team member', 'it'), ('other team member', 'game'), ('new copy', 'copy'), ('new copy', 'damaged copy'), ('new copy', 'cash'), ('ya', 'me'), ('store', 'perspective')])"
      ]
     },
     "execution_count": 13,
     "metadata": {},
     "output_type": "execute_result"
    }
   ],
   "source": [
    "g.edges"
   ]
  },
  {
   "cell_type": "code",
   "execution_count": 14,
   "metadata": {},
   "outputs": [
    {
     "name": "stdout",
     "output_type": "stream",
     "text": [
      "('team member', 'insight here', 'can offer')\n",
      "('team member', 'insight', 'can offer')\n",
      "('team member', 'it', 'looking')\n",
      "('team member', 'game', 'takes')\n",
      "('i', 'new marvel board game', 'pre-ordered')\n",
      "('i', 'target.com', 'pre-ordered marvel board game from')\n",
      "('i', 'marvel board game', 'pre-ordered')\n",
      "('i', 'marvel villainous board game', 'pre-ordered')\n",
      "('i', 'new marvel villainous board game', 'pre-ordered')\n",
      "('i', 'while active', \"'ll want\")\n",
      "('i', 'preorders', 'scoop up')\n",
      "('i', 'active', \"'ll want later\")\n",
      "('i', 'it', \"'d seen earlier\")\n",
      "('i', 'damage', 'can show')\n",
      "('i', 'them', 'can see off')\n",
      "('i', 'shelves', \"'d seen earlier on\")\n",
      "('i', 'copy', 'simply return')\n",
      "('i', 'undamaged copy', 'can exchange for')\n",
      "('i', 'damaged copy', 'return')\n",
      "('i', 'cash', 'pay')\n",
      "('i', 'when teen', 'was')\n",
      "('i', 'situations', 'see')\n",
      "('i', 'customer', 'see situations from')\n",
      "('1', 'disney toys', 'free on')\n",
      "('circle deals', 'active', 'are')\n",
      "('circle deals', 'while active', 'are')\n",
      "('deals', 'preorders', 'often apply to')\n",
      "('good circle deals', 'active', 'are')\n",
      "('good circle deals', 'while active', 'are')\n",
      "('it', 'packed', 'was')\n",
      "('game', '$ 24.99', 'retails')\n",
      "('game', 'box', 'arrived several months later in')\n",
      "('game', 'has released', 'has')\n",
      "('game', 'has now released', 'has')\n",
      "('game', 'side', 'examines')\n",
      "('game', 'slip cover', 'removes')\n",
      "('game', 'it', 'looking')\n",
      "('tight fit', 'absolutely padding at all', 'is with')\n",
      "('*', 'it', 'took')\n",
      "('copy', 'damaged copy', 'return')\n",
      "('copy', 'copy', 'simply return')\n",
      "('copy', 'cash', 'pay')\n",
      "('other team member', 'it', 'looking real hard')\n",
      "('other team member', 'game', 'takes')\n",
      "('new copy', 'copy', 'return')\n",
      "('new copy', 'damaged copy', 'simply return')\n",
      "('new copy', 'cash', 'pay')\n",
      "('ya', 'me', 'bring')\n",
      "('store', 'perspective', 'from')\n"
     ]
    }
   ],
   "source": [
    "for relation in g.edges.data(\"relation\"):\n",
    "    print(relation)"
   ]
  },
  {
   "cell_type": "code",
   "execution_count": 15,
   "metadata": {},
   "outputs": [
    {
     "data": {
      "text/plain": [
       "0"
      ]
     },
     "execution_count": 15,
     "metadata": {},
     "output_type": "execute_result"
    }
   ],
   "source": [
    "nx.node_connectivity(g)"
   ]
  },
  {
   "cell_type": "code",
   "execution_count": 16,
   "metadata": {},
   "outputs": [
    {
     "data": {
      "text/plain": [
       "5"
      ]
     },
     "execution_count": 16,
     "metadata": {},
     "output_type": "execute_result"
    }
   ],
   "source": [
    "nx.number_connected_components(g.to_undirected())"
   ]
  },
  {
   "cell_type": "code",
   "execution_count": 17,
   "metadata": {},
   "outputs": [
    {
     "data": {
      "text/plain": [
       "45"
      ]
     },
     "execution_count": 17,
     "metadata": {},
     "output_type": "execute_result"
    }
   ],
   "source": [
    "nx.number_strongly_connected_components(g)"
   ]
  },
  {
   "cell_type": "code",
   "execution_count": 18,
   "metadata": {},
   "outputs": [
    {
     "data": {
      "text/plain": [
       "5"
      ]
     },
     "execution_count": 18,
     "metadata": {},
     "output_type": "execute_result"
    }
   ],
   "source": [
    "nx.number_weakly_connected_components(g)"
   ]
  },
  {
   "cell_type": "code",
   "execution_count": 19,
   "metadata": {},
   "outputs": [
    {
     "name": "stdout",
     "output_type": "stream",
     "text": [
      "team member: 0.09090909090909091\n",
      "insight here: 0.022727272727272728\n",
      "insight: 0.022727272727272728\n",
      "i: 0.4318181818181818\n",
      "new marvel board game: 0.022727272727272728\n",
      "target.com: 0.022727272727272728\n",
      "marvel board game: 0.022727272727272728\n",
      "1: 0.022727272727272728\n",
      "disney toys: 0.022727272727272728\n",
      "marvel villainous board game: 0.022727272727272728\n",
      "new marvel villainous board game: 0.022727272727272728\n",
      "circle deals: 0.045454545454545456\n",
      "active: 0.06818181818181818\n",
      "while active: 0.06818181818181818\n",
      "deals: 0.022727272727272728\n",
      "preorders: 0.045454545454545456\n",
      "good circle deals: 0.045454545454545456\n",
      "it: 0.13636363636363635\n",
      "game: 0.20454545454545456\n",
      "$ 24.99: 0.022727272727272728\n",
      "packed: 0.022727272727272728\n",
      "tight fit: 0.022727272727272728\n",
      "absolutely padding at all: 0.022727272727272728\n",
      "box: 0.022727272727272728\n",
      "damage: 0.022727272727272728\n",
      "them: 0.022727272727272728\n",
      "*: 0.022727272727272728\n",
      "shelves: 0.022727272727272728\n",
      "copy: 0.13636363636363635\n",
      "has released: 0.022727272727272728\n",
      "undamaged copy: 0.022727272727272728\n",
      "has now released: 0.022727272727272728\n",
      "side: 0.022727272727272728\n",
      "other team member: 0.045454545454545456\n",
      "slip cover: 0.022727272727272728\n",
      "damaged copy: 0.06818181818181818\n",
      "new copy: 0.06818181818181818\n",
      "cash: 0.06818181818181818\n",
      "ya: 0.022727272727272728\n",
      "me: 0.022727272727272728\n",
      "when teen: 0.022727272727272728\n",
      "situations: 0.022727272727272728\n",
      "customer: 0.022727272727272728\n",
      "store: 0.022727272727272728\n",
      "perspective: 0.022727272727272728\n"
     ]
    }
   ],
   "source": [
    "degree_centrality = nx.degree_centrality(g)\n",
    "for k, v in degree_centrality.items():\n",
    "    print(f\"{k}: {v}\")"
   ]
  },
  {
   "cell_type": "code",
   "execution_count": 20,
   "metadata": {},
   "outputs": [
    {
     "name": "stdout",
     "output_type": "stream",
     "text": [
      "Average degree centrality: 0.04949494949494951\n"
     ]
    }
   ],
   "source": [
    "avg_degree_centrality = sum(list(degree_centrality.values())) / len(list(degree_centrality.values()))\n",
    "print(f\"Average degree centrality: {avg_degree_centrality}\")"
   ]
  },
  {
   "cell_type": "code",
   "execution_count": 21,
   "metadata": {},
   "outputs": [
    {
     "name": "stdout",
     "output_type": "stream",
     "text": [
      "team member: 0.0\n",
      "insight here: 0.022727272727272728\n",
      "insight: 0.022727272727272728\n",
      "i: 0.0\n",
      "new marvel board game: 0.022727272727272728\n",
      "target.com: 0.022727272727272728\n",
      "marvel board game: 0.022727272727272728\n",
      "1: 0.0\n",
      "disney toys: 0.022727272727272728\n",
      "marvel villainous board game: 0.022727272727272728\n",
      "new marvel villainous board game: 0.022727272727272728\n",
      "circle deals: 0.0\n",
      "active: 0.06818181818181818\n",
      "while active: 0.06818181818181818\n",
      "deals: 0.0\n",
      "preorders: 0.045454545454545456\n",
      "good circle deals: 0.0\n",
      "it: 0.11363636363636365\n",
      "game: 0.045454545454545456\n",
      "$ 24.99: 0.022727272727272728\n",
      "packed: 0.022727272727272728\n",
      "tight fit: 0.0\n",
      "absolutely padding at all: 0.022727272727272728\n",
      "box: 0.022727272727272728\n",
      "damage: 0.022727272727272728\n",
      "them: 0.022727272727272728\n",
      "*: 0.0\n",
      "shelves: 0.022727272727272728\n",
      "copy: 0.06818181818181818\n",
      "has released: 0.022727272727272728\n",
      "undamaged copy: 0.022727272727272728\n",
      "has now released: 0.022727272727272728\n",
      "side: 0.022727272727272728\n",
      "other team member: 0.0\n",
      "slip cover: 0.022727272727272728\n",
      "damaged copy: 0.06818181818181818\n",
      "new copy: 0.0\n",
      "cash: 0.06818181818181818\n",
      "ya: 0.0\n",
      "me: 0.022727272727272728\n",
      "when teen: 0.022727272727272728\n",
      "situations: 0.022727272727272728\n",
      "customer: 0.022727272727272728\n",
      "store: 0.0\n",
      "perspective: 0.022727272727272728\n"
     ]
    }
   ],
   "source": [
    "in_degree_centrality = nx.in_degree_centrality(g)\n",
    "for k, v in in_degree_centrality.items():\n",
    "    print(f\"{k}: {v}\")"
   ]
  },
  {
   "cell_type": "code",
   "execution_count": 22,
   "metadata": {},
   "outputs": [
    {
     "name": "stdout",
     "output_type": "stream",
     "text": [
      "Average in degree centrality: 0.024747474747474737\n"
     ]
    }
   ],
   "source": [
    "avg_in_degree_centrality = sum(list(in_degree_centrality.values())) / len(list(in_degree_centrality.values()))\n",
    "print(f\"Average in degree centrality: {avg_in_degree_centrality}\")"
   ]
  },
  {
   "cell_type": "code",
   "execution_count": 23,
   "metadata": {},
   "outputs": [
    {
     "name": "stdout",
     "output_type": "stream",
     "text": [
      "team member: 0.09090909090909091\n",
      "insight here: 0.0\n",
      "insight: 0.0\n",
      "i: 0.4318181818181818\n",
      "new marvel board game: 0.0\n",
      "target.com: 0.0\n",
      "marvel board game: 0.0\n",
      "1: 0.022727272727272728\n",
      "disney toys: 0.0\n",
      "marvel villainous board game: 0.0\n",
      "new marvel villainous board game: 0.0\n",
      "circle deals: 0.045454545454545456\n",
      "active: 0.0\n",
      "while active: 0.0\n",
      "deals: 0.022727272727272728\n",
      "preorders: 0.0\n",
      "good circle deals: 0.045454545454545456\n",
      "it: 0.022727272727272728\n",
      "game: 0.1590909090909091\n",
      "$ 24.99: 0.0\n",
      "packed: 0.0\n",
      "tight fit: 0.022727272727272728\n",
      "absolutely padding at all: 0.0\n",
      "box: 0.0\n",
      "damage: 0.0\n",
      "them: 0.0\n",
      "*: 0.022727272727272728\n",
      "shelves: 0.0\n",
      "copy: 0.06818181818181818\n",
      "has released: 0.0\n",
      "undamaged copy: 0.0\n",
      "has now released: 0.0\n",
      "side: 0.0\n",
      "other team member: 0.045454545454545456\n",
      "slip cover: 0.0\n",
      "damaged copy: 0.0\n",
      "new copy: 0.06818181818181818\n",
      "cash: 0.0\n",
      "ya: 0.022727272727272728\n",
      "me: 0.0\n",
      "when teen: 0.0\n",
      "situations: 0.0\n",
      "customer: 0.0\n",
      "store: 0.022727272727272728\n",
      "perspective: 0.0\n"
     ]
    }
   ],
   "source": [
    "out_degree_centrality = nx.out_degree_centrality(g)\n",
    "for k, v in out_degree_centrality.items():\n",
    "    print(f\"{k}: {v}\")"
   ]
  },
  {
   "cell_type": "code",
   "execution_count": 24,
   "metadata": {},
   "outputs": [
    {
     "name": "stdout",
     "output_type": "stream",
     "text": [
      "Average out degree centrality: 0.02474747474747474\n"
     ]
    }
   ],
   "source": [
    "avg_out_degree_centrality = sum(list(out_degree_centrality.values())) / len(list(out_degree_centrality.values()))\n",
    "print(f\"Average out degree centrality: {avg_out_degree_centrality}\")"
   ]
  },
  {
   "cell_type": "code",
   "execution_count": 25,
   "metadata": {},
   "outputs": [
    {
     "name": "stdout",
     "output_type": "stream",
     "text": [
      "team member: 2.8677298367300344e-09\n",
      "insight here: 7.742870559171093e-08\n",
      "insight: 7.742870559171093e-08\n",
      "i: 2.8677298367300344e-09\n",
      "new marvel board game: 7.742870559171093e-08\n",
      "target.com: 7.742870559171093e-08\n",
      "marvel board game: 7.742870559171093e-08\n",
      "1: 2.8677298367300344e-09\n",
      "disney toys: 7.742870559171093e-08\n",
      "marvel villainous board game: 7.742870559171093e-08\n",
      "new marvel villainous board game: 7.742870559171093e-08\n",
      "circle deals: 2.8677298367300344e-09\n",
      "active: 2.2655065710167254e-07\n",
      "while active: 2.2655065710167254e-07\n",
      "deals: 2.8677298367300344e-09\n",
      "preorders: 1.5198968134669176e-07\n",
      "good circle deals: 2.8677298367300344e-09\n",
      "it: 2.2396970024861586e-06\n",
      "game: 1.5198968134669176e-07\n",
      "$ 24.99: 1.9414530994662334e-06\n",
      "packed: 1.964968484127421e-05\n",
      "tight fit: 2.8677298367300344e-09\n",
      "absolutely padding at all: 7.742870559171093e-08\n",
      "box: 1.9414530994662334e-06\n",
      "damage: 7.742870559171093e-08\n",
      "them: 7.742870559171093e-08\n",
      "*: 2.8677298367300344e-09\n",
      "shelves: 7.742870559171093e-08\n",
      "copy: 0.5773502690701147\n",
      "has released: 1.9414530994662334e-06\n",
      "undamaged copy: 7.742870559171093e-08\n",
      "has now released: 1.9414530994662334e-06\n",
      "side: 1.9414530994662334e-06\n",
      "other team member: 2.8677298367300344e-09\n",
      "slip cover: 1.9414530994662334e-06\n",
      "damaged copy: 0.5773502690701147\n",
      "new copy: 2.8677298367300344e-09\n",
      "cash: 0.5773502690701147\n",
      "ya: 2.8677298367300344e-09\n",
      "me: 7.742870559171093e-08\n",
      "when teen: 7.742870559171093e-08\n",
      "situations: 7.742870559171093e-08\n",
      "customer: 7.742870559171093e-08\n",
      "store: 2.8677298367300344e-09\n",
      "perspective: 7.742870559171093e-08\n"
     ]
    }
   ],
   "source": [
    "eigen = nx.eigenvector_centrality(g, max_iter=2000)\n",
    "for k, v in eigen.items():\n",
    "    print(f\"{k}: {v}\")"
   ]
  },
  {
   "cell_type": "code",
   "execution_count": 26,
   "metadata": {},
   "outputs": [
    {
     "name": "stdout",
     "output_type": "stream",
     "text": [
      "Average eigenvector centrality: 0.03849081178935379\n"
     ]
    }
   ],
   "source": [
    "avg_eigen = sum(list(eigen.values())) / len(list(eigen.values()))\n",
    "print(f\"Average eigenvector centrality: {avg_eigen}\")"
   ]
  },
  {
   "cell_type": "code",
   "execution_count": 27,
   "metadata": {},
   "outputs": [
    {
     "name": "stdout",
     "output_type": "stream",
     "text": [
      "team member: 0.0\n",
      "insight here: 0.022727272727272728\n",
      "insight: 0.022727272727272728\n",
      "i: 0.0\n",
      "new marvel board game: 0.022727272727272728\n",
      "target.com: 0.022727272727272728\n",
      "marvel board game: 0.022727272727272728\n",
      "1: 0.0\n",
      "disney toys: 0.022727272727272728\n",
      "marvel villainous board game: 0.022727272727272728\n",
      "new marvel villainous board game: 0.022727272727272728\n",
      "circle deals: 0.0\n",
      "active: 0.06818181818181818\n",
      "while active: 0.06818181818181818\n",
      "deals: 0.0\n",
      "preorders: 0.045454545454545456\n",
      "good circle deals: 0.0\n",
      "it: 0.11363636363636363\n",
      "game: 0.045454545454545456\n",
      "$ 24.99: 0.0409090909090909\n",
      "packed: 0.07438016528925619\n",
      "tight fit: 0.0\n",
      "absolutely padding at all: 0.022727272727272728\n",
      "box: 0.0409090909090909\n",
      "damage: 0.022727272727272728\n",
      "them: 0.022727272727272728\n",
      "*: 0.0\n",
      "shelves: 0.022727272727272728\n",
      "copy: 0.045454545454545456\n",
      "has released: 0.0409090909090909\n",
      "undamaged copy: 0.022727272727272728\n",
      "has now released: 0.0409090909090909\n",
      "side: 0.0409090909090909\n",
      "other team member: 0.0\n",
      "slip cover: 0.0409090909090909\n",
      "damaged copy: 0.06818181818181818\n",
      "new copy: 0.0\n",
      "cash: 0.06818181818181818\n",
      "ya: 0.0\n",
      "me: 0.022727272727272728\n",
      "when teen: 0.022727272727272728\n",
      "situations: 0.022727272727272728\n",
      "customer: 0.022727272727272728\n",
      "store: 0.0\n",
      "perspective: 0.022727272727272728\n"
     ]
    }
   ],
   "source": [
    "closeness_centrality = nx.closeness_centrality(g)\n",
    "for k, v in closeness_centrality.items():\n",
    "    print(f\"{k}: {v}\")"
   ]
  },
  {
   "cell_type": "code",
   "execution_count": 28,
   "metadata": {},
   "outputs": [
    {
     "name": "stdout",
     "output_type": "stream",
     "text": [
      "Average closeness centrality: 0.027814508723599623\n"
     ]
    }
   ],
   "source": [
    "avg_closeness_centrality = sum(list(closeness_centrality.values())) / len(list(closeness_centrality.values()))\n",
    "print(f\"Average closeness centrality: {avg_closeness_centrality}\")"
   ]
  }
 ],
 "metadata": {
  "kernelspec": {
   "display_name": "Python 3.10.5 ('venv': venv)",
   "language": "python",
   "name": "python3"
  },
  "language_info": {
   "codemirror_mode": {
    "name": "ipython",
    "version": 3
   },
   "file_extension": ".py",
   "mimetype": "text/x-python",
   "name": "python",
   "nbconvert_exporter": "python",
   "pygments_lexer": "ipython3",
   "version": "3.10.5"
  },
  "orig_nbformat": 4,
  "vscode": {
   "interpreter": {
    "hash": "48c0fbfdadddefa50fd21038c3451c2b0ef44d02d8057cd409be29a61e67b463"
   }
  }
 },
 "nbformat": 4,
 "nbformat_minor": 2
}
