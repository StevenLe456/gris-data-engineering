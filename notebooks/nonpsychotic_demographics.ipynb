{
 "cells": [
  {
   "cell_type": "markdown",
   "metadata": {},
   "source": [
    "Import the necessary libraries for statistical analysis and data visualization"
   ]
  },
  {
   "cell_type": "code",
   "execution_count": 1,
   "metadata": {},
   "outputs": [],
   "source": [
    "import matplotlib.pyplot as plt\n",
    "import numpy as np\n",
    "import pickle"
   ]
  },
  {
   "cell_type": "markdown",
   "metadata": {},
   "source": [
    "Load the data"
   ]
  },
  {
   "cell_type": "code",
   "execution_count": 2,
   "metadata": {},
   "outputs": [],
   "source": [
    "with open(\"../data/random_authors.pickle\", \"rb\") as p:\n",
    "    authors = pickle.load(p)\n",
    "\n",
    "with open(\"../data/nonpsychotic_posts.pickle\", \"rb\") as p:\n",
    "    posts = pickle.load(p)"
   ]
  },
  {
   "cell_type": "markdown",
   "metadata": {},
   "source": [
    "Get number of authors"
   ]
  },
  {
   "cell_type": "code",
   "execution_count": 3,
   "metadata": {},
   "outputs": [
    {
     "data": {
      "text/plain": [
       "1000"
      ]
     },
     "execution_count": 3,
     "metadata": {},
     "output_type": "execute_result"
    }
   ],
   "source": [
    "len(authors)"
   ]
  },
  {
   "cell_type": "markdown",
   "metadata": {},
   "source": [
    "Get number of total posts and and collect number of posts per author, number of tokens per post, and subreddits the posts were from"
   ]
  },
  {
   "cell_type": "code",
   "execution_count": 4,
   "metadata": {},
   "outputs": [
    {
     "name": "stdout",
     "output_type": "stream",
     "text": [
      "13492\n"
     ]
    }
   ],
   "source": [
    "p = 0\n",
    "num_posts_per_author = []\n",
    "num_tokens_per_posts = []\n",
    "subreddits = []\n",
    "for post in posts.values():\n",
    "    i = 0\n",
    "    for pst in post:\n",
    "        i += 1\n",
    "        p += 1\n",
    "        num_tokens_per_posts.append(pst[\"length\"])\n",
    "        subreddits.append(pst[\"subreddit\"])\n",
    "    num_posts_per_author.append(i)\n",
    "\n",
    "print(p)"
   ]
  },
  {
   "cell_type": "markdown",
   "metadata": {},
   "source": [
    "Get the mean and standard deviation for the number of posts per author"
   ]
  },
  {
   "cell_type": "code",
   "execution_count": 5,
   "metadata": {},
   "outputs": [
    {
     "name": "stdout",
     "output_type": "stream",
     "text": [
      "14.112970711297072\n",
      "44.97644431319265\n"
     ]
    }
   ],
   "source": [
    "print(np.mean(np.asarray(num_posts_per_author)))\n",
    "print(np.std(np.asarray(num_posts_per_author)))"
   ]
  },
  {
   "cell_type": "markdown",
   "metadata": {},
   "source": [
    "Create a histogram for the number of posts per author"
   ]
  },
  {
   "cell_type": "code",
   "execution_count": 6,
   "metadata": {},
   "outputs": [
    {
     "data": {
      "image/png": "[encoded data removed]",
      "text/plain": [
       "<Figure size 432x288 with 1 Axes>"
      ]
     },
     "metadata": {
      "needs_background": "light"
     },
     "output_type": "display_data"
    }
   ],
   "source": [
    "plt.hist(num_posts_per_author)\n",
    "plt.title(\"Number of Posts per Author\")\n",
    "plt.show()"
   ]
  },
  {
   "cell_type": "markdown",
   "metadata": {},
   "source": [
    "Get the mean and standard deviation for the number of tokens per post"
   ]
  },
  {
   "cell_type": "code",
   "execution_count": 7,
   "metadata": {},
   "outputs": [
    {
     "name": "stdout",
     "output_type": "stream",
     "text": [
      "347.65883486510523\n",
      "293.71237584673287\n"
     ]
    }
   ],
   "source": [
    "print(np.mean(np.asarray(num_tokens_per_posts)))\n",
    "print(np.std(np.asarray(num_tokens_per_posts)))"
   ]
  },
  {
   "cell_type": "markdown",
   "metadata": {},
   "source": [
    "Create a histogram for the number of tokens per post"
   ]
  },
  {
   "cell_type": "code",
   "execution_count": 8,
   "metadata": {},
   "outputs": [
    {
     "data": {
      "image/png": "[encoded data removed]",
      "text/plain": [
       "<Figure size 432x288 with 1 Axes>"
      ]
     },
     "metadata": {
      "needs_background": "light"
     },
     "output_type": "display_data"
    }
   ],
   "source": [
    "plt.hist(num_tokens_per_posts, bins=20)\n",
    "plt.title(\"Number of word tokens per post\")\n",
    "plt.show()"
   ]
  },
  {
   "cell_type": "markdown",
   "metadata": {},
   "source": [
    "Print 20 most common subreddits and their count"
   ]
  },
  {
   "cell_type": "code",
   "execution_count": 9,
   "metadata": {},
   "outputs": [
    {
     "name": "stdout",
     "output_type": "stream",
     "text": [
      "CryptoMonde 250\n",
      "CryptoSpreader 250\n",
      "DeltaLog 250\n",
      "BinanceSgReferral 250\n",
      "CryptoFarmer 250\n",
      "HowToOpenBinanceAcc 250\n",
      "CryptoBlinder 250\n",
      "customwritinghelp 250\n",
      "CryptoProcreator 249\n",
      "CryptoFather 249\n",
      "CryptoMundus 249\n",
      "CryptoPlants 249\n",
      "CryptoCloudlet 249\n",
      "CryptoDevirsty 249\n",
      "CryptoOrginator 249\n",
      "CryptoClaimer 249\n",
      "CryptoHatcher 249\n",
      "CryptoCaisson 249\n",
      "BinanceBonusCodes 249\n",
      "CryptoRanch 248\n"
     ]
    }
   ],
   "source": [
    "sr = {}\n",
    "for s in subreddits:\n",
    "    if s not in sr:\n",
    "        sr[s] = 1\n",
    "    else:\n",
    "        sr[s] += 1\n",
    "\n",
    "d = sorted(sr.items(), key=lambda kv:kv[1], reverse=True)\n",
    "\n",
    "for i in range(20):\n",
    "    print(d[i][0] + \" \" + str(d[i][1]))"
   ]
  }
 ],
 "metadata": {
  "kernelspec": {
   "display_name": "Python 3.10.5 ('venv': venv)",
   "language": "python",
   "name": "python3"
  },
  "language_info": {
   "codemirror_mode": {
    "name": "ipython",
    "version": 3
   },
   "file_extension": ".py",
   "mimetype": "text/x-python",
   "name": "python",
   "nbconvert_exporter": "python",
   "pygments_lexer": "ipython3",
   "version": "3.10.5"
  },
  "orig_nbformat": 4,
  "vscode": {
   "interpreter": {
    "hash": "48c0fbfdadddefa50fd21038c3451c2b0ef44d02d8057cd409be29a61e67b463"
   }
  }
 },
 "nbformat": 4,
 "nbformat_minor": 2
}
